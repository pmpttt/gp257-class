{
 "cells": [
  {
   "cell_type": "markdown",
   "id": "2825d6cb-e15e-4a79-a3c7-c1a2b5954beb",
   "metadata": {},
   "source": [
    "# Getting started with slurm\n",
    "\n",
    "\n",
    "## Summary \n",
    "\n",
    "In this lab you will learn some of the basics of slurm and a few of the more advanced features that you might helpful in the future. We will be doing this lab on our class cluster but everything we are doing will also work on Stanford's Sherlock system (or any other slurm cluster) often with more interesting results because they are bigger more complex systems.\n",
    "\n",
    "\n",
    "# Slurm basics\n",
    "\n",
    "\n",
    "Slurm is a workload manager. Its jobs is to efficiently and fairly provide cluster resources. A slurm controlled cluster is ususally broken up into parittions where different sets of rules on use and are often composed of different hardware.  You use slurm resources by making a request to the slurm controller node for resources.  Your request is evaluated for priority based on what are referred to as \"fairshare\" rules. When there are free resources and you have the top priority you are granted access."
   ]
  },
  {
   "cell_type": "markdown",
   "id": "178589bb-4449-4a10-843f-264227c0bc10",
   "metadata": {},
   "source": [
    "## sinfo\n",
    "\n",
    "The sinfo command is very valuable way to find out about a cluster. Using the command without any options will give you a general idea about the cluster you are using.\n"
   ]
  },
  {
   "cell_type": "code",
   "execution_count": 15,
   "id": "96704bf6-93cd-4719-a98a-53d411706bde",
   "metadata": {},
   "outputs": [
    {
     "name": "stdout",
     "output_type": "stream",
     "text": [
      "PARTITION AVAIL  TIMELIMIT  NODES  STATE NODELIST\n",
      "debug*       up   infinite     11  idle~ slurm-gp257-devel-compute-0-[1-11]\n",
      "debug*       up   infinite      1    mix slurm-gp257-devel-compute-0-0\n",
      "cpu          up   infinite      5  idle~ slurm-gp257-devel-compute-1-[0-4]\n",
      "t4           up   infinite     10  idle~ slurm-gp257-devel-compute-2-[0-9]\n",
      "preempt      up   infinite     47  idle~ slurm-gp257-devel-compute-3-[3-49]\n",
      "preempt      up   infinite      3  alloc slurm-gp257-devel-compute-3-[0-2]\n"
     ]
    }
   ],
   "source": [
    "!sinfo"
   ]
  },
  {
   "cell_type": "markdown",
   "id": "6e58793c-5747-4e40-80c0-0bda6c0e501a",
   "metadata": {},
   "source": [
    "By default the sinfo command gives you the names of the various partitions, the number of nodes in each partition, their status, and the name of the nodes in the various partitions.  This represents a very small amount of the sinfo commands capabilites. For example I can find the number of cores on a given node using the -n (for a specific node) and -O (for specific information) flags."
   ]
  },
  {
   "cell_type": "code",
   "execution_count": 2,
   "id": "e18390ac-fa4e-4a15-af63-18817cfe6f0c",
   "metadata": {},
   "outputs": [
    {
     "name": "stdout",
     "output_type": "stream",
     "text": [
      "CORES               \n",
      "4                   \n"
     ]
    }
   ],
   "source": [
    "!sinfo -n slurm-gp257-devel-compute-0-0 -O CORES"
   ]
  },
  {
   "cell_type": "markdown",
   "id": "7e4a2f5a-4fa7-49d0-af8d-f8dcb2a04a07",
   "metadata": {},
   "source": [
    "Below are some additional useful options.  Generic resources, Gres, refers to GPUs among other things.\n",
    "\n",
    "\n",
    "| Option | Description|\n",
    "| :--- | ------- |\n",
    "| Cores | Number of cores per socket.|\n",
    "| Disk  | Size of temporary disk space per node in megabytes.|\n",
    "| FreeMem | The total memory, in MB, currently free on the node as reported by the OS. This value is for informational use only and is not used for scheduling.|\n",
    "| Gres  | Generic resources (gres) associated with the nodes. |\n",
    "| GresUsed | Generic resources (gres) currently in use on the nodes. |\n",
    "| Memory | Size of memory per node in megabytes. |\n",
    "| PreemptMode  | Preemption mode. |\n",
    "|  Threads | Number of threads per core. |\n",
    "| Time  |Maximum time for any job in the format \"days-hours:minutes:seconds\". |\n"
   ]
  },
  {
   "cell_type": "markdown",
   "id": "ec565402-7960-45e7-9957-305f4af2e18e",
   "metadata": {},
   "source": [
    "In the cell below build a table describing the nodes on the cluster using the above commmand."
   ]
  },
  {
   "cell_type": "markdown",
   "id": "918802b2-0257-41d2-b70d-8bdca82215ed",
   "metadata": {},
   "source": []
  },
  {
   "cell_type": "markdown",
   "id": "9263736a-e55e-4845-b852-b6a6678ef5f6",
   "metadata": {},
   "source": [
    "# squeue\n",
    "\n",
    "Thre squeue command gives us information about what is actually running on the cluster.  Often it useful to use the -p partiton option to reduce the infomation it produces on a cluster.\n"
   ]
  },
  {
   "cell_type": "code",
   "execution_count": 52,
   "id": "3f4706e9-bccb-412a-81ff-c5a08f71ca2c",
   "metadata": {},
   "outputs": [
    {
     "name": "stdout",
     "output_type": "stream",
     "text": [
      "             JOBID PARTITION     NAME     USER ST       TIME  NODES NODELIST(REASON)\n",
      "  14959_[433-1000]     debug submit2. ppettit_ PD       0:00      1 (Resources)\n",
      "             15007     debug submit3. ppettit_ PD       0:00      1 (Dependency)\n",
      "             14230     debug     bash ppettit_  R    1:51:32      1 slurm-gp257-devel-compute-0-0\n"
     ]
    }
   ],
   "source": [
    "! squeue -p debug"
   ]
  },
  {
   "cell_type": "markdown",
   "id": "00840058-02c2-4abd-87c8-f232e091b7d8",
   "metadata": {},
   "source": [
    "The results of the command gives you all the jobs that have been submitted to the cluster. It displays the jobid, the parition the job has been submitted, its status, how long it has been running, and the nodes the job is running on.  Below is the list of status possibilites.\n",
    "\n",
    "\n",
    "|Status|Code|Explaination|\n",
    "| ----- | ------ | ----- |\n",
    "|COMPLETED|CD|The job has completed successfully.|\n",
    "|COMPLETING|CG|The job is finishing but some processes are still active.|\n",
    "|FAILED|F|The job terminated with a non-zero exit code and failed to execute.|\n",
    "|PENDING|PD|The job is waiting for resource allocation. It will eventually run.|\n",
    "|PREEMPTED|PR|The job was terminated because of preemption by another job.|\n",
    "|RUNNING|R|The job currently is allocated to a node and is running.|\n",
    "|SUSPENDED|S| A running job has been stopped with its cores released to other jobs.|\n",
    "|STOPPED|ST|A running job has been stopped with its cores retained.|"
   ]
  },
  {
   "cell_type": "markdown",
   "id": "0af5cd69-8081-46f0-aada-b7c2ba272059",
   "metadata": {},
   "source": [
    "The squeue and sinfo together provide a powerful tool in combination if you can't figure out why your job isn't starting (or fails)\". Somplex examples include\n",
    "- If you are requesting a job using a number of nodes you can see how many nodes are being currently used. Is it all by one user?\n",
    "- If your job will not start, are you requesting more memory that in on the queue, more processors?\n",
    "- Are other users using up all of the memory /GPUs currently?\n"
   ]
  },
  {
   "cell_type": "markdown",
   "id": "575a1fa7-3ab1-40c3-b3cc-da3ab601e895",
   "metadata": {},
   "source": [
    "# salloc, sbatch, and srun\n",
    "\n",
    "There are two general ways to request slurm resources, salloc and sbatch.  The easiest way to remember the differece is to use salloc when you want to do something interactivelty, sbatch when you are wanting a submit a job that runs eventually.  srun is used to launch jobs on these allocated resources but can be used directly (in whcih case it calls an salloc behind the scenes). \n",
    "\n",
    "The command you used to start this lab is a simple example\n",
    "\n",
    "srun --pty --x11 /bin/bash\n",
    "\n",
    "Here we requesteed a node on the default partition, with the default amount of memory, for the default amount of time, with a single core, said we wanted to run in terminal mode, and ran the command bash. \n",
    "\n",
    "In almost all cases you want to specify the resources you want to use it and the time you want to use them. The primary reason you want to specify the resources you need is the defults are often not approriate. You many need more memory, need more cores, etc. Almost as important is that it can often time give you an advatnage with the scheduler. If your job doesn't take much memory when another user is using most of the memory on a node, your job will start, while someone using the default might not. If the scheduler is trying to run a job that requires many cores, specifying your job will only run for a few minutes, the scheduler will run your job while waiting for other jobs to finish.\n",
    "\n",
    "\n",
    "\n"
   ]
  },
  {
   "cell_type": "markdown",
   "id": "14befb10-e4b9-4204-ad74-ed5a3dbff73b",
   "metadata": {},
   "source": [
    "# Specifying job parameters (the basics)\n",
    "\n",
    "We can specify slurm configuration parameters on the command line, or when using sbatch in the submission shell file by begining a line with #SBATCH before specify an option.\n",
    "\n",
    "We can specify the parition using the -partition partName flag. The length of a job with --time=day-hours:minutes:seconds.  We can specify to use gpus by using the gres flag  --gres=gpu[[:type]:number].\n",
    "\n",
    "\n",
    "## Specifying tasks\n",
    "\n",
    "Slurm thinks of a job that has one or tasks. These task(s) run on one or more nodes.  We specify the number of tasks using --ntasks=ntasks.  If each parallel tasks uses multiple cores we can use --cpus-per-task=ncpus.  We can specify multiple tasks per core (--tasks-per-cpu=tasks) or node (--tasks-per-nodes). \n",
    "\n",
    "## Memory\n",
    "\n",
    "There are a number of ways to specify. We can specify the total memory for a job with --mem=<size>units. We can also specify memory per cpu --mem-per-cpu=<size>[units] and per GPU --mem-per-gpu=<size>[units].\n",
    "\n"
   ]
  },
  {
   "cell_type": "markdown",
   "id": "21797228",
   "metadata": {},
   "source": [
    "# Simple submission\n",
    "\n",
    "In this part of the lab you will write a simple program to calculate pi using Leibniz’s formula.\n",
    "\n",
    "\n",
    "X = 4 - 4/3 + 4/5 - 4/7 + 4/9 - ....\n",
    "\n",
    "This series is never-ending, the more the terms this series contains, the closer the value of X converges to Pi value.\n",
    "\n",
    "Use the next three cells to \n",
    "\n",
    "- write and save a python script that caclulates Pi using Leibniz formula. You should sum to 1000000 terms.\n",
    "- write a sbatch that\n",
    "    - submits a job to the compute partition\n",
    "    - submits a time limit of 2 hours for the job\n",
    "    - specifies one GB of memory\n",
    "    - runs on a single core\n",
    "- submits the jobs to the cluster\n"
   ]
  },
  {
   "cell_type": "code",
   "execution_count": 2,
   "id": "6189e092-f065-4da7-9eec-fb35d4a8086d",
   "metadata": {
    "tags": []
   },
   "outputs": [
    {
     "name": "stdout",
     "output_type": "stream",
     "text": [
      "Overwriting leib.py\n"
     ]
    }
   ],
   "source": [
    "%%writefile leib.py\n",
    "#!/usr/bin/env python3\n",
    "\n",
    "LPi = 0\n",
    "for i in range (999999):\n",
    "    if i%2 == 1:\n",
    "        LPi -= 4/(2*i+1)\n",
    "    else:\n",
    "        LPi += 4/(2*i+1)\n",
    "\n",
    "res = str(LPi)\n",
    "\n",
    "f=open(\"result0.txt\",\"w\")\n",
    "f.write(res)\n",
    "f.close()"
   ]
  },
  {
   "cell_type": "code",
   "execution_count": 3,
   "id": "4b544297-7536-4f9c-aa61-58e2dee8ccce",
   "metadata": {},
   "outputs": [
    {
     "name": "stdout",
     "output_type": "stream",
     "text": [
      "Overwriting submit.sh\n"
     ]
    }
   ],
   "source": [
    "%%writefile submit.sh\n",
    "#!/bin/bash\n",
    "#SBASH --ntasks=1 \n",
    "#SBASH --time=0-2:0:0\n",
    "#SBASH --cpus-per-task=1\n",
    "#SBASH --mem=1gb\n",
    "#SBASH --partition=compute\n",
    "\n",
    "spack load /tye3sty\n",
    "python3 ./leib.py"
   ]
  },
  {
   "cell_type": "code",
   "execution_count": 4,
   "id": "35f69c97-42dc-4ad9-b8bc-e17f4302d17e",
   "metadata": {},
   "outputs": [
    {
     "name": "stdout",
     "output_type": "stream",
     "text": [
      "Submitted batch job 10658\n"
     ]
    }
   ],
   "source": [
    "!sbatch submit.sh"
   ]
  },
  {
   "cell_type": "markdown",
   "id": "598f3ab1",
   "metadata": {},
   "source": [
    "# Slurm advanced\n",
    "\n",
    "Slurm also has a number of advanced options that can be quite useful.  \n",
    "\n",
    "## Resubmitting\n",
    "\n",
    "Clusters are always trying to maximize there usage.  As a result they often have a mechanism that allows unused resources used for free at or a reduced cost. In general you get to use these resources until someone who has/or is willing to pay/has paid a higher cost. At Stanford, the Sherlock clusters owner's queue operates in this manner. If you submit a job to the queue it will use all free resources if the owner of the resource requests those resources your job will be killed. GCP has the concept of preemitbible nodes, which opperate at a much lower cost, but the jobs can be killed at any time.\n",
    "\n",
    "Many applications can take advantage of these potentially killed resources.  They are ideal for jobs that take a short time and don't use many cores. Slurm provides the option --requeue to enable the use of these resources.  Any job that doesn't complete is automatically resubmitted to the queue.\n",
    "\n",
    "## Job arrays\n",
    "\n",
    "There are many cases where you want to run a series of very similar jobs. Each job could be submitted in sequence but this can overload a slurm controller load.  Slurm job arrays provide an effective way to approach these jobs. The command line option --array offers a potential solution. You can submit an array in many forms:\n",
    "\n",
    "- --array=0-31    # jobs 0 1 2 3 4 5 .. 31\n",
    "- --array=1,3,5,7 # jobs 1 3 5 7\n",
    "-  --array=1-7:2  # jobs 1 3 4 5 7\n",
    "\n",
    "Each job will set the environmental variable SLURM_ARRAY_TASK_ID with the corresponding ID.\n",
    "\n",
    "\n",
    "## Dependency\n",
    "\n",
    "Another powerful feature of slurm is the ability to build dependencies. Basically guarantee that a task doesn't start until a given condition has been met. You can set a dependency using --dependency=<type:job_id[:job_id] where type is one of the following.\n",
    "\n",
    "\n",
    "- after:jobid[:jobid...]\tjob can begin after the specified jobs have started\n",
    "- afterany:jobid[:jobid...]\tjob can begin after the specified jobs have terminated\n",
    "- afternotok:jobid[:jobid...]\tjob can begin after the specified jobs have failed\n",
    "- afterok:jobid[:jobid...]\tjob can begin after the specified jobs have run to completion with an exit code of zero (see the user guide for caveats).\n",
    "\n"
   ]
  },
  {
   "cell_type": "markdown",
   "id": "467bc972",
   "metadata": {},
   "source": [
    "# Complex submission\n",
    "\n",
    "A second way to calculate pi is to use random numbers. You can calculate pi by taking by \n",
    " - choosing two random numbers between 0 and 1\n",
    " - checking whether to sum of the squares of those numbers is <= 1\n",
    " - 4 times the fraction of numbers that meet this criteria will be equal to pi\n",
    "\n",
    "\n",
    "Your job is to\n",
    "\n",
    "- write a program that follows the above procedure to estimate pi using a large number of tests\n",
    "    - it should seed to random number generated based on reading the environmental variable SLURM_ARRAY_TASK_ID.\n",
    "    - it should write the estimate to a file that uses the SLURM_ARRAY_TASK_ID in its name\n",
    "- You should write a second program that reads a series of files with the name pattern above and averaes them and writes the result to result2.txt.\n",
    "- You should write two slurm submission scripts\n",
    "    - The First should submit to the preempt partition a job array of 1000 and resubmit if the job fails (make sure you test your code by running it on this node before submitting)\n",
    "    - The second job should depend on the first job finishing with an exit code 0 befofre running the second python script. This job should run on debug partition"
   ]
  },
  {
   "cell_type": "markdown",
   "id": "4034b739",
   "metadata": {},
   "source": [
    "# Finishing up\n",
    "\n",
    "Add this lab to your class github site after adding all of the files that you have created for this lab."
   ]
  },
  {
   "cell_type": "code",
   "execution_count": 40,
   "id": "6ae6d72f-6fe8-4b67-97ed-fecd84fe81c7",
   "metadata": {},
   "outputs": [
    {
     "name": "stdout",
     "output_type": "stream",
     "text": [
      "Overwriting randpi.py\n"
     ]
    }
   ],
   "source": [
    "%%writefile randpi.py\n",
    "#!/user/bin/env python3\n",
    "\n",
    "import random\n",
    "import os\n",
    "\n",
    "# Get task ID and set as seed\n",
    "taskID = os.getenv('SLURM_ARRAY_TASK_ID')\n",
    "random.seed(taskID)\n",
    "\n",
    "# Initialize variable of sums that are less than or equal to 1\n",
    "lteq = 0\n",
    "\n",
    "# Loop 100000 times and write number of random combinations that sum to less than or equal to 1\n",
    "for i in range (99999):\n",
    "    first = random.random()\n",
    "    second = random.random()\n",
    "    if (first**2 + second**2) <= 1:\n",
    "        lteq += 1\n",
    "        \n",
    "est = 4*(lteq/100000)\n",
    "res = str(est)\n",
    "\n",
    "fname = \"piest\" + str(taskID)\n",
    "\n",
    "f = open(fname,\"w\")\n",
    "f.write(res)\n",
    "f.close()\n",
    "    "
   ]
  },
  {
   "cell_type": "code",
   "execution_count": 6,
   "id": "93c149e2-a4f7-49d2-9de7-c8317d4aa2f2",
   "metadata": {},
   "outputs": [
    {
     "name": "stdout",
     "output_type": "stream",
     "text": [
      "Writing averands.py\n"
     ]
    }
   ],
   "source": [
    "%%writefile averands.py\n",
    "#!/usr/bin/env python3\n",
    "\n",
    "import os\n",
    "\n",
    "# Initialize count and sum variables\n",
    "count = 0\n",
    "sumpis = 0\n",
    "\n",
    "# Loop over items in directory to find estimates, add to sum, and iterate count\n",
    "with os.scandir() as entries:\n",
    "    for entry in entries:\n",
    "        if \"piest\" in entry.name:\n",
    "            f = open(entry.name)\n",
    "            count += 1\n",
    "            sumpis += float(f.read())\n",
    "            f.close()\n",
    "            os.remove(entry.name)\n",
    "\n",
    "piestave = sumpis/count\n",
    "res = str(piestave)\n",
    "\n",
    "f = open(\"result2\",\"w\")\n",
    "f.write(res)\n",
    "f.close()"
   ]
  },
  {
   "cell_type": "code",
   "execution_count": 47,
   "id": "5f1b05fc-9b49-4e94-903b-ab4b00c8b9d1",
   "metadata": {},
   "outputs": [
    {
     "name": "stdout",
     "output_type": "stream",
     "text": [
      "Overwriting submit2.sh\n"
     ]
    }
   ],
   "source": [
    "%%writefile submit2.sh\n",
    "#!/bin/bash\n",
    "#SBASH --ntasks=1 \n",
    "#SBASH --time=0-2:0:0\n",
    "#SBASH --cpus-per-task=1\n",
    "#SBASH --mem=1gb\n",
    "#SBASH --partition=preempt\n",
    "\n",
    "spack load /tye3sty\n",
    "python3 ./randpi.py"
   ]
  },
  {
   "cell_type": "code",
   "execution_count": 48,
   "id": "6b408fdf-9549-4185-b219-0a7a7e7dfc20",
   "metadata": {},
   "outputs": [
    {
     "name": "stdout",
     "output_type": "stream",
     "text": [
      "Overwriting submit3.sh\n"
     ]
    }
   ],
   "source": [
    "%%writefile submit3.sh\n",
    "#!/bin/bash\n",
    "#SBASH --ntasks=1\n",
    "#SBASH --ntime=0-2:0:0\n",
    "#SBASH --cpus-per-task=1\n",
    "#SBASH --mem=1gb\n",
    "#SBASH --partition=debug\n",
    "\n",
    "spack load /tye3sty\n",
    "python3 ./averands.py"
   ]
  },
  {
   "cell_type": "code",
   "execution_count": 49,
   "id": "39af36da-0bec-4e74-9ec6-7dfebf2eac29",
   "metadata": {},
   "outputs": [
    {
     "name": "stdout",
     "output_type": "stream",
     "text": [
      "Submitted batch job 14959\n"
     ]
    }
   ],
   "source": [
    "!sbatch --array=1-1000 submit2.sh"
   ]
  },
  {
   "cell_type": "code",
   "execution_count": 50,
   "id": "d878185b-e440-489d-884c-371542b6ccd0",
   "metadata": {},
   "outputs": [
    {
     "name": "stdout",
     "output_type": "stream",
     "text": [
      "Submitted batch job 15007\n"
     ]
    }
   ],
   "source": [
    "!sbatch --dependency=afterok:14959 submit3.sh"
   ]
  },
  {
   "cell_type": "code",
   "execution_count": 34,
   "id": "58e51c2b-52bb-4b75-8556-36e35c4ebbe1",
   "metadata": {},
   "outputs": [],
   "source": []
  }
 ],
 "metadata": {
  "kernelspec": {
   "display_name": "Python 3 (ipykernel)",
   "language": "python",
   "name": "python3"
  },
  "language_info": {
   "codemirror_mode": {
    "name": "ipython",
    "version": 3
   },
   "file_extension": ".py",
   "mimetype": "text/x-python",
   "name": "python",
   "nbconvert_exporter": "python",
   "pygments_lexer": "ipython3",
   "version": "3.10.8"
  }
 },
 "nbformat": 4,
 "nbformat_minor": 5
}
